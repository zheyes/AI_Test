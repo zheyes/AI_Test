{
  "nbformat": 4,
  "nbformat_minor": 0,
  "metadata": {
    "colab": {
      "name": "tf_test",
      "provenance": [],
      "collapsed_sections": [],
      "authorship_tag": "ABX9TyPDrBDACqgzGd6XtaeSDzMh",
      "include_colab_link": true
    },
    "kernelspec": {
      "name": "python3",
      "display_name": "Python 3"
    },
    "accelerator": "GPU"
  },
  "cells": [
    {
      "cell_type": "markdown",
      "metadata": {
        "id": "view-in-github",
        "colab_type": "text"
      },
      "source": [
        "<a href=\"https://colab.research.google.com/github/zheyes/AI_Test/blob/master/tf_test.ipynb\" target=\"_parent\"><img src=\"https://colab.research.google.com/assets/colab-badge.svg\" alt=\"Open In Colab\"/></a>"
      ]
    },
    {
      "cell_type": "code",
      "metadata": {
        "id": "2O7BB2yYe6j5",
        "colab_type": "code",
        "colab": {
          "base_uri": "https://localhost:8080/",
          "height": 50
        },
        "outputId": "4e734746-84a2-417e-b9b1-f755e3fed68e"
      },
      "source": [
        "import tensorflow as tf\n",
        "print(tf.reduce_sum(tf.random.normal([1000,1000])))\n",
        "print(tf.__version__)"
      ],
      "execution_count": 4,
      "outputs": [
        {
          "output_type": "stream",
          "text": [
            "tf.Tensor(3.8144226, shape=(), dtype=float32)\n",
            "2.2.0\n"
          ],
          "name": "stdout"
        }
      ]
    }
  ]
}